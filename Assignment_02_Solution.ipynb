{
 "cells": [
  {
   "cell_type": "markdown",
   "metadata": {
    "id": "TSfQb_3w9CP3",
    "tags": []
   },
   "source": [
    "# Assignment 2: Programming I\n",
    "\n",
    "Please read the tasks description carefully and implement **only** what the tasks wants you to implement. Follow the instructions from the task description. There might be tasks that require you to write things you would do differently **but** you have to stay with the description. The test cases below each input cell is the gold standard. For this assignment, you do not need any error handling, you can assume that all input to your function will be valid.\n",
    "\n",
    "In this or any other assignment, using `print` is encouraged to test your implementation but is is **never** required to use it. If your function has to **return** something, use the `return` statement. A `print` is **not** a `return`.\n",
    "\n",
    "Try to implement the tasks yourself or in a small team. If you blindly copy a solution from the internet or other students, you will not learn anything from it. Understand the solution! This takes practice.\n",
    "\n",
    "_Hint: If the test case succeeds, delete your solution and redo it the next day._\n",
    "\n",
    "Do not modify the _test cells_, by doing so you cheat your solution which is not helpful for your learning process."
   ]
  },
  {
   "cell_type": "markdown",
   "metadata": {
    "id": "7Q0Qeuj69RbV"
   },
   "source": [
    "---\n",
    "## Task 1\n",
    "\n",
    "Write a `for` loop that creates a string containing all numbers from `1` (inclusive) to `50` (exclusive) without spaces inbetween.\n",
    "\n",
    "The first five characters of the resulting string are `12345`. (All numbers from 1 to 5.)\n",
    "\n",
    "The result must be stored in a variable with the name `solution1`.\n",
    "\n",
    "_Hint: Use the [`range()`](https://docs.python.org/3/library/stdtypes.html#range) function._"
   ]
  },
  {
   "cell_type": "code",
   "execution_count": 1,
   "metadata": {},
   "outputs": [
    {
     "name": "stdout",
     "output_type": "stream",
     "text": [
      "hello Filip\n",
      "hello again\n",
      "whaaats uppp\n",
      "loco gringo\n",
      "hello again\n",
      "locooooosqua\n"
     ]
    }
   ],
   "source": [
    "print('hello Filip')\n",
    "print('hello again')\n",
    "print('whaaats uppp')\n",
    "print('loco gringo')\n",
    "print('hello again')\n",
    "print('locooooosqua')"
   ]
  },
  {
   "cell_type": "code",
   "execution_count": 7,
   "metadata": {
    "executionInfo": {
     "elapsed": 343,
     "status": "ok",
     "timestamp": 1632322011360,
     "user": {
      "displayName": "Bernhard Bermeitinger",
      "photoUrl": "https://lh3.googleusercontent.com/a-/AOh14GivXxt0TLtU4UXyER4_cY1H5s03j1oHP80xcb4=s64",
      "userId": "00323182743818884824"
     },
     "user_tz": -120
    },
    "id": "b9kbIA0A9QLT"
   },
   "outputs": [
    {
     "name": "stdout",
     "output_type": "stream",
     "text": [
      "hello Filip\n",
      "hello again\n",
      "whaaats uppp\n",
      "yo\n"
     ]
    }
   ],
   "source": [
    "# Add your code here:\n",
    "print('hello Filip')\n",
    "print('hello again')\n",
    "print('whaaats uppp')\n",
    "print('yo')\n",
    "### BEGIN SOLUTION\n",
    "solution1 = \"\"\n",
    "# we don't need modulo because we start at 1 and use a step size of 1\n",
    "for i in range(1, 50):\n",
    "    solution1 += str(i)\n",
    "### END SOLUTION"
   ]
  },
  {
   "cell_type": "code",
   "execution_count": 16,
   "metadata": {
    "colab": {
     "base_uri": "https://localhost:8080/"
    },
    "executionInfo": {
     "elapsed": 221,
     "status": "ok",
     "timestamp": 1632322048130,
     "user": {
      "displayName": "Bernhard Bermeitinger",
      "photoUrl": "https://lh3.googleusercontent.com/a-/AOh14GivXxt0TLtU4UXyER4_cY1H5s03j1oHP80xcb4=s64",
      "userId": "00323182743818884824"
     },
     "user_tz": -120
    },
    "id": "tWTJDI8F-T4R",
    "outputId": "9b1cd881-c6ae-4fe7-9c78-cd07a6a12ea5"
   },
   "outputs": [
    {
     "name": "stdout",
     "output_type": "stream",
     "text": [
      "\n",
      "\u001b[37;42;2m  Success! Your code works as intended.  \u001b[0m\n",
      "\n"
     ]
    }
   ],
   "source": [
    "# Test Cell. Do not modify!\n",
    "from unittest import TestCase\n",
    "test_case = TestCase()\n",
    "\n",
    "# Sanity check\n",
    "test_case.assertTrue('solution1' in locals(), msg='You must define the variable `solution1`.')\n",
    "test_case.assertIsInstance(solution1, str, msg='`solution1` must be a string.')\n",
    "test_case.assertTrue(len(solution1) > 0, msg='`solution1` does not contain any character.')\n",
    "\n",
    "# Common Mistakes\n",
    "test_case.assertFalse(solution1[0] == \"0\", msg=\"Your string starts wrongly with `0`.\")\n",
    "test_case.assertEqual(solution1[0], \"1\", msg=\"Your string must start with `1`.\")\n",
    "\n",
    "# Check if correct:\n",
    "test_case.assertEqual(\n",
    "    solution1,\n",
    "    '12345678910111213141516171819202122232425262728293031323334353637383940414243444546474849',\n",
    "    msg='Your string is not the same as the expected one.'\n",
    ")\n",
    "\n",
    "\n",
    "print(\"\\n\\033[37;42;2m  Success! Your code works as intended.  \\033[0m\\n\")"
   ]
  },
  {
   "cell_type": "markdown",
   "metadata": {
    "id": "9liLg1iy-hPC"
   },
   "source": [
    "---\n",
    "## Task 2\n",
    "\n",
    "Write a `for` loop that creates a string containing all `even` numbers from `1` (inclusive) to `50` (exclusive) without spaces inbetween.\n",
    "\n",
    "The first five characters of the resulting string are `246810`. (The even numbers 2, 4, 6, 8, 10.)\n",
    "\n",
    "The result must be stored in a variable with the name `solution2`.\n",
    "\n",
    "_Hint: Use the [`range()`](https://docs.python.org/3/library/stdtypes.html#range) function. Check the possible parameters for this function so you can solve if without using the modulo operator._"
   ]
  },
  {
   "cell_type": "code",
   "execution_count": 6,
   "metadata": {
    "executionInfo": {
     "elapsed": 212,
     "status": "ok",
     "timestamp": 1632322199223,
     "user": {
      "displayName": "Bernhard Bermeitinger",
      "photoUrl": "https://lh3.googleusercontent.com/a-/AOh14GivXxt0TLtU4UXyER4_cY1H5s03j1oHP80xcb4=s64",
      "userId": "00323182743818884824"
     },
     "user_tz": -120
    },
    "id": "zUFRQa3z-av6"
   },
   "outputs": [],
   "source": [
    "# Add your code here:\n",
    "\n",
    "### BEGIN SOLUTION\n",
    "solution2 = \"\"\n",
    "# we don't need modulo because we start at 2 (!) and use a step size of 2.\n",
    "for i in range(2, 50, 2):\n",
    "    solution2 += str(i)\n",
    "### END SOLUTION"
   ]
  },
  {
   "cell_type": "code",
   "execution_count": 19,
   "metadata": {
    "colab": {
     "base_uri": "https://localhost:8080/"
    },
    "executionInfo": {
     "elapsed": 232,
     "status": "ok",
     "timestamp": 1632322249121,
     "user": {
      "displayName": "Bernhard Bermeitinger",
      "photoUrl": "https://lh3.googleusercontent.com/a-/AOh14GivXxt0TLtU4UXyER4_cY1H5s03j1oHP80xcb4=s64",
      "userId": "00323182743818884824"
     },
     "user_tz": -120
    },
    "id": "jormUz77-4kM",
    "outputId": "ae1920e8-ec77-44fc-f4a2-112b86c4de55"
   },
   "outputs": [
    {
     "name": "stdout",
     "output_type": "stream",
     "text": [
      "\n",
      "\u001b[37;42;2m  Success! Your code works as intended.  \u001b[0m\n",
      "\n"
     ]
    }
   ],
   "source": [
    "# Test Cell. Do not modify!\n",
    "from unittest import TestCase\n",
    "test_case = TestCase()\n",
    "\n",
    "# Sanity check\n",
    "test_case.assertTrue('solution2' in locals(), msg='You must define the variable `solution2`.')\n",
    "test_case.assertIsInstance(solution2, str, msg='`solution2` must be a string.')\n",
    "test_case.assertTrue(len(solution2) > 0, msg='`solution2` does not contain any character.')\n",
    "\n",
    "# Common Mistakes\n",
    "test_case.assertFalse(solution2[0] == \"0\", msg=\"Your string starts wrongly with `0`.\")\n",
    "test_case.assertEqual(solution2[0], \"2\", msg=\"Your string must start with `2`.\")\n",
    "\n",
    "# Check if correct:\n",
    "test_case.assertEqual(\n",
    "    solution2,\n",
    "    '24681012141618202224262830323436384042444648',\n",
    "    msg='Your string is not the same as the expected one.'\n",
    ")\n",
    "\n",
    "\n",
    "print(\"\\n\\033[37;42;2m  Success! Your code works as intended.  \\033[0m\\n\")"
   ]
  },
  {
   "cell_type": "markdown",
   "metadata": {
    "id": "Mp3N7WR__Ucm"
   },
   "source": [
    "---\n",
    "## Task 3\n",
    "\n",
    "Write a `for` loop that creates a string containing the *digit sum* of number from `100` to `200` without spaces, starting at **100**. (100 inclusive, 200 exclusive)\n",
    "Store the resulting string in the variable `solution3`.\n",
    "\n",
    "To calculate the _digit sum_, you sum up all individual digits in a number.\n",
    "\n",
    "An example for first five numbers:\n",
    "\n",
    "| Number  | Digit Sum   |\n",
    "| -------:|-------------:|\n",
    "| 100       | 1 + 0 + 0 = 1 |\n",
    "| 101       | 1 + 0 + 1 = 2 |\n",
    "| 102       | 1 + 0 + 2 = 3 |\n",
    "| 103      | 1 + 0 + 3 = 4|\n",
    "| 104      | 1 + 0 + 4 = 5|\n",
    "\n",
    "The solution here would be the string `12345`. Calculate the digit sum of each number, **then** concatenate it to `solution3`.\n",
    "\n",
    "\n",
    "_Hint: Use the [`range()`](https://docs.python.org/3/library/stdtypes.html#range) function with the your specific parameters._\n",
    "\n",
    "_Hint: You can nest `for` loops (a loop within a loop)._\n",
    "\n",
    "_Hint: Keep in mind the different datatypes. This task will require a few back-and-forth conversions._"
   ]
  },
  {
   "cell_type": "code",
   "execution_count": 8,
   "metadata": {
    "executionInfo": {
     "elapsed": 228,
     "status": "ok",
     "timestamp": 1632322524515,
     "user": {
      "displayName": "Bernhard Bermeitinger",
      "photoUrl": "https://lh3.googleusercontent.com/a-/AOh14GivXxt0TLtU4UXyER4_cY1H5s03j1oHP80xcb4=s64",
      "userId": "00323182743818884824"
     },
     "user_tz": -120
    },
    "id": "6MAmX2-MAKCh"
   },
   "outputs": [],
   "source": [
    "# Add your code here\n",
    "\n",
    "### BEGIN SOLUTION\n",
    "solution3 = \"\"\n",
    "\n",
    "for num_int in range(100, 200):\n",
    "    digit_sum = 0\n",
    "    \n",
    "    # (we keep it explicit in the solution, it could be shorter)\n",
    "    num_str = str(num_int)\n",
    "    for digit_str in num_str:\n",
    "        digit_int = int(digit_str)\n",
    "        digit_sum = digit_sum + digit_int\n",
    "    \n",
    "    digit_sum_str = str(digit_sum)\n",
    "    solution3 = solution3 + digit_sum_str\n",
    "\n",
    "### END SOLUTION\n"
   ]
  },
  {
   "cell_type": "code",
   "execution_count": 14,
   "metadata": {
    "colab": {
     "base_uri": "https://localhost:8080/"
    },
    "executionInfo": {
     "elapsed": 231,
     "status": "ok",
     "timestamp": 1632322598601,
     "user": {
      "displayName": "Bernhard Bermeitinger",
      "photoUrl": "https://lh3.googleusercontent.com/a-/AOh14GivXxt0TLtU4UXyER4_cY1H5s03j1oHP80xcb4=s64",
      "userId": "00323182743818884824"
     },
     "user_tz": -120
    },
    "id": "vh6r6MlVARKh",
    "outputId": "9698507c-3f0f-4960-8f83-e5eeae417d35"
   },
   "outputs": [
    {
     "name": "stdout",
     "output_type": "stream",
     "text": [
      "\n",
      "\u001b[37;42;2m  Success! Your code works as intended.  \u001b[0m\n",
      "\n"
     ]
    }
   ],
   "source": [
    "# Test Cell, Do not modify.\n",
    "from unittest import TestCase\n",
    "test_case = TestCase()\n",
    "\n",
    "# Sanity Check\n",
    "test_case.assertTrue('solution3' in locals(), msg=\"You must define the variable `solution3`.\")\n",
    "test_case.assertIsInstance(solution3, str, msg='`solution3` must be a string.')\n",
    "test_case.assertTrue(len(solution3) > 0, msg='`solution3` does not contain any character.')\n",
    "\n",
    "# Common Mistakes\n",
    "test_case.assertFalse(solution3[0] == \"0\", msg=\"Your string starts with `0` (should start with `1`).\")\n",
    "test_case.assertEqual(solution3[0], \"1\", msg=\"Your string must start with `1`.\")\n",
    "\n",
    "# Full string\n",
    "test_case.assertEqual(\n",
    "    solution3,\n",
    "    '12345678910234567891011345678910111245678910111213567891011121314678910111213141578910111213141516891011121314151617910111213141516171810111213141516171819',\n",
    "    msg=\"Your solution3 is incorrect.\"\n",
    ")\n",
    "\n",
    "print(\"\\n\\033[37;42;2m  Success! Your code works as intended.  \\033[0m\\n\")"
   ]
  },
  {
   "cell_type": "code",
   "execution_count": null,
   "metadata": {
    "id": "OGDYrbFwAZQw"
   },
   "outputs": [],
   "source": []
  },
  {
   "cell_type": "code",
   "execution_count": null,
   "metadata": {},
   "outputs": [],
   "source": []
  }
 ],
 "metadata": {
  "colab": {
   "collapsed_sections": [],
   "name": "Assignment_02_Solution.ipynb",
   "provenance": []
  },
  "copyright": {
   "author": "Bernhard Bermeitinger",
   "email": "bernhard.bermeitinger@unisg.ch"
  },
  "kernelspec": {
   "display_name": "Python 3",
   "language": "python",
   "name": "python3"
  },
  "language_info": {
   "codemirror_mode": {
    "name": "ipython",
    "version": 3
   },
   "file_extension": ".py",
   "mimetype": "text/x-python",
   "name": "python",
   "nbconvert_exporter": "python",
   "pygments_lexer": "ipython3",
   "version": "3.9.6"
  },
  "toc-autonumbering": false,
  "toc-showcode": false
 },
 "nbformat": 4,
 "nbformat_minor": 4
}
